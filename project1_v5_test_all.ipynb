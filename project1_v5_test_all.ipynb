{
 "cells": [
  {
   "cell_type": "code",
   "execution_count": 2,
   "metadata": {},
   "outputs": [
    {
     "name": "stdout",
     "output_type": "stream",
     "text": [
      "The autoreload extension is already loaded. To reload it, use:\n",
      "  %reload_ext autoreload\n"
     ]
    }
   ],
   "source": [
    "# Useful starting lines\n",
    "%matplotlib inline\n",
    "import numpy as np\n",
    "import matplotlib.pyplot as plt\n",
    "from implementations import *\n",
    "from proj1_helpers import *\n",
    "%load_ext autoreload\n",
    "%autoreload 2"
   ]
  },
  {
   "cell_type": "markdown",
   "metadata": {},
   "source": [
    "## Load the training data into feature matrix, class labels, and event ids:"
   ]
  },
  {
   "cell_type": "code",
   "execution_count": 2,
   "metadata": {},
   "outputs": [],
   "source": [
    "from proj1_helpers import *\n",
    "DATA_TRAIN_PATH = \"../data/train.csv\"\n",
    "y, tX, ids = load_csv_data(DATA_TRAIN_PATH)"
   ]
  },
  {
   "cell_type": "markdown",
   "metadata": {},
   "source": [
    "## Do your thing crazy machine learning thing here :) ..."
   ]
  },
  {
   "cell_type": "markdown",
   "metadata": {},
   "source": [
    "## Generate predictions and save ouput in csv format for submission:"
   ]
  },
  {
   "cell_type": "code",
   "execution_count": 3,
   "metadata": {},
   "outputs": [],
   "source": [
    "DATA_TEST_PATH = \"../data/test.csv\"\n",
    "_, tX_test, ids_test = load_csv_data(DATA_TEST_PATH)"
   ]
  },
  {
   "cell_type": "code",
   "execution_count": 21,
   "metadata": {},
   "outputs": [
    {
     "name": "stdout",
     "output_type": "stream",
     "text": [
      "Data loaded\n",
      "least square GD learning ongoing...\n",
      "Score: % 70.62\n",
      "least square SGD learning ongoing...\n",
      "Score: % 69.26400000000001\n",
      "least square learning ongoing...\n",
      "Score: % 74.72\n",
      "ridge learning ongoing...\n",
      "Score: % 74.732\n",
      "logistic regression learning ongoing...\n",
      "Score: % 75.042\n",
      "reg logistic regression learning ongoing...\n",
      "Score: % 75.02799999999999\n",
      "Best method is  logistic_regression : score =  0.75042\n"
     ]
    }
   ],
   "source": [
    "def test_main():\n",
    "    ''' TEST ALL RAW METHODS '''\n",
    "    # Load train and test data\n",
    "    DATA_TRAIN_PATH = \"../data/train.csv\"\n",
    "    y, tx, ids = load_csv_data(DATA_TRAIN_PATH)\n",
    "    \n",
    "    #DATA_TEST_PATH = \"../data/test.csv\"\n",
    "    #_, tx_test, ids_test = load_csv_data(DATA_TEST_PATH)\n",
    "    \n",
    "    print('Data loaded')\n",
    "    \n",
    "    methods = ['least_square_GD', \n",
    "               'least_square_SGD', \n",
    "               'least_squares', \n",
    "               'ridge_regression', \n",
    "               'logistic_regression', \n",
    "               'reg_logistic_regression']\n",
    "    \n",
    "    scores = []\n",
    "    \n",
    "    scores.append(test_methods(y,tx,methods[0]))\n",
    "    scores.append(test_methods(y,tx,methods[1]))\n",
    "    scores.append(test_methods(y,tx,methods[2]))\n",
    "    scores.append(test_methods(y,tx,methods[3]))\n",
    "    scores.append(test_methods(y,tx,methods[4]))\n",
    "    scores.append(test_methods(y,tx,methods[5]))\n",
    "    \n",
    "    index = np.argmax(scores)\n",
    "    \n",
    "    print('Best method is ', methods[index], ': score = ', scores[index])\n",
    "\n",
    "test_main()"
   ]
  },
  {
   "cell_type": "code",
   "execution_count": 27,
   "metadata": {},
   "outputs": [
    {
     "name": "stdout",
     "output_type": "stream",
     "text": [
      "Data loaded\n",
      "degree: 4  lambda: 1e-12 -> RMSE  =  0.7402822368189568\n",
      "degree: 5  lambda: 1e-12 -> RMSE  =  0.7378326617252589\n",
      "degree: 6  lambda: 1e-12 -> RMSE  =  0.734467448771038\n",
      "optimal hyperparameters found:\n",
      "- degree =  6\n",
      "- lambda =  1e-12\n"
     ]
    }
   ],
   "source": [
    "def hyperparameters_main():\n",
    "    ''' FIND OPTIMAL PARAMETERS FOR RIDGE REGRESSION '''\n",
    "    # Load train and test data\n",
    "    DATA_TRAIN_PATH = \"../data/train.csv\"\n",
    "    y_train, tx_train, ids = load_csv_data(DATA_TRAIN_PATH)\n",
    "    \n",
    "    print('Data loaded')\n",
    "    \n",
    "    # Pre-processing of data \n",
    "    # -> delete nan and replace by mean column value\n",
    "    # -> replace outliers by low/high bound\n",
    "    processed_tx_train = process_data(tx_train)\n",
    "    \n",
    "    optimal_degree, optimal_lambda = find_optimal_hyperparameters(y_train, processed_tx_train)\n",
    "\n",
    "    print('optimal hyperparameters found:')\n",
    "    print('- degree = ', optimal_degree) \n",
    "    print('- lambda = ', optimal_lambda)\n",
    "  \n",
    "hyperparameters_main()"
   ]
  },
  {
   "cell_type": "code",
   "execution_count": 31,
   "metadata": {},
   "outputs": [
    {
     "name": "stdout",
     "output_type": "stream",
     "text": [
      "Data loaded\n",
      "Data processed\n",
      "Hyperparameters optimized\n"
     ]
    }
   ],
   "source": [
    "def main():\n",
    "    '''OPTIMAL METHOD COMPUTED\n",
    "    '''\n",
    "    # Load train and test data\n",
    "    DATA_TRAIN_PATH = \"../data/train.csv\"\n",
    "    y_train, tx_train, ids = load_csv_data(DATA_TRAIN_PATH)\n",
    "    \n",
    "    DATA_TEST_PATH = \"../data/test.csv\"\n",
    "    _, tx_test, ids_test = load_csv_data(DATA_TEST_PATH)\n",
    "    \n",
    "    print('Data loaded')\n",
    "    \n",
    "    # Pre-processing of data \n",
    "    # -> delete nan and replace by mean column value\n",
    "    # -> replace outliers by low/high bound\n",
    "    processed_tx_train = process_data(tx_train)\n",
    "    processed_tx_test = process_data(tx_test)\n",
    "    \n",
    "    print('Data processed')\n",
    "    \n",
    "    optimal_degree = 6\n",
    "    optimal_lambda = 2.8942661247167517e-10\n",
    "    \n",
    "    print('Hyperparameters optimized')\n",
    "    \n",
    "    # Test optimized ridge regression with \n",
    "    # optimal degree = 6 and lambda = 2.8942661247167517e-10\n",
    "    poly_tx_train = build_poly(processed_tx_train, optimal_degree)\n",
    "    poly_tx_test = build_poly(processed_tx_test, optimal_degree)\n",
    "    w, loss = ridge_regression(y_train, poly_tx_train, optimal_lambda)\n",
    "\n",
    "    return w, poly_tx_test, ids_test\n",
    "\n",
    "w, tX_test, ids_test = main()"
   ]
  },
  {
   "cell_type": "code",
   "execution_count": 32,
   "metadata": {},
   "outputs": [],
   "source": [
    "OUTPUT_PATH = \"../data/submission008.csv\"\n",
    "#y_pred = predict_labels(weights, tX_test)\n",
    "y_pred = predict_labels(w, tX_test)\n",
    "create_csv_submission(ids_test, y_pred, OUTPUT_PATH)"
   ]
  },
  {
   "cell_type": "code",
   "execution_count": null,
   "metadata": {},
   "outputs": [],
   "source": []
  }
 ],
 "metadata": {
  "anaconda-cloud": {},
  "kernelspec": {
   "display_name": "Python 3",
   "language": "python",
   "name": "python3"
  },
  "language_info": {
   "codemirror_mode": {
    "name": "ipython",
    "version": 3
   },
   "file_extension": ".py",
   "mimetype": "text/x-python",
   "name": "python",
   "nbconvert_exporter": "python",
   "pygments_lexer": "ipython3",
   "version": "3.7.3"
  }
 },
 "nbformat": 4,
 "nbformat_minor": 1
}
