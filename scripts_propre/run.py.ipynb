{
 "cells": [
  {
   "cell_type": "code",
   "execution_count": 400,
   "metadata": {},
   "outputs": [
    {
     "name": "stdout",
     "output_type": "stream",
     "text": [
      "The autoreload extension is already loaded. To reload it, use:\n",
      "  %reload_ext autoreload\n"
     ]
    }
   ],
   "source": [
    "# Useful starting lines\n",
    "%matplotlib inline\n",
    "import numpy as np\n",
    "import matplotlib.pyplot as plt\n",
    "%load_ext autoreload\n",
    "%autoreload 2"
   ]
  },
  {
   "cell_type": "code",
   "execution_count": 401,
   "metadata": {},
   "outputs": [],
   "source": [
    "from implementations import *\n",
    "from helpers import *\n",
    "from data_manager import *\n",
    "from runners import *\n",
    "from plot import *"
   ]
  },
  {
   "cell_type": "code",
   "execution_count": 402,
   "metadata": {},
   "outputs": [],
   "source": [
    "from proj1_helpers import *\n",
    "DATA_TRAIN_PATH = '../data/train.csv' # TODO: download train data and supply path here \n",
    "y, tX, ids = load_csv_data(DATA_TRAIN_PATH)"
   ]
  },
  {
   "cell_type": "raw",
   "metadata": {},
   "source": [
    "\"\"\"Reminder :\n",
    "        nandel -> delete nan values (-999.)\n",
    "        nanmed -> replace -999. with mean\n",
    "        bound -> eliminate outliers\n",
    "        std -> standardize data set\n",
    "        prb -> change y into probability values\n",
    "        catvar -> seperates data depending on jet number\n",
    "        zerovar -> eliminate columns with no varinaces\n",
    "\"\"\"\n",
    "\n",
    "My_options = ['nandel', 'bound']\n",
    "y, tX = process_data(y, tX, My_options)\n"
   ]
  },
  {
   "cell_type": "raw",
   "metadata": {},
   "source": [
    "# Definir parametre et mettre dans une liste\n",
    "#Split data for learning and testing\n",
    "ratio = 0.8\n",
    "seed = 1\n",
    "y_tr, x_tr, y_te, x_te = split_data(y, tX, ratio, seed)\n",
    "\n",
    "w = np.zeros(tX.shape[1])\n",
    "max_iters = 1000\n",
    "gamma = 7e-7\n",
    "\n",
    "parameters = [y_tr, x_tr, w, max_iters, gamma]\n",
    "\n",
    "# Appeler la fonction\n",
    "w, loss = test_methods(least_squares_GD, parameters)\n",
    "\n",
    "\n",
    "# Tester le score\n",
    "test_score(y_te, x_te, w)\n",
    "#test_logistic_score(y, tx, w)"
   ]
  },
  {
   "cell_type": "code",
   "execution_count": 397,
   "metadata": {},
   "outputs": [
    {
     "name": "stdout",
     "output_type": "stream",
     "text": [
      "Score: % 65.85600000000001\n",
      "Score: % 68.2744\n",
      "Score: % 69.97879999999999\n",
      "Score: % 71.1312\n",
      "Score: % 72.7368\n",
      "Score: % 73.6696\n",
      "Score: % 74.05080000000001\n",
      "Score: % 74.34960000000001\n",
      "Score: % 74.6428\n",
      "Score: % 74.89519999999999\n",
      "Score: % 75.02640000000001\n",
      "Score: % 67.2284\n",
      "Score: % 49.4144\n",
      "Score: % 49.5284\n",
      "Score: % 66.5364\n"
     ]
    },
    {
     "data": {
      "image/png": "[encoded data removed]",
      "text/plain": [
       "<Figure size 432x288 with 1 Axes>"
      ]
     },
     "metadata": {
      "needs_background": "light"
     },
     "output_type": "display_data"
    }
   ],
   "source": [
    "# Data processing -> part you can play with\n",
    "My_options = ['nanmed', 'bound', 'std', 'prb']\n",
    "y, tX = process_data(y, tX, My_options)\n",
    "\n",
    "#Split data for learning and testing\n",
    "ratio = 0.8\n",
    "seed = 1\n",
    "y_tr, x_tr, y_te, x_te = split_data(y, tX, ratio, seed)\n",
    "\n",
    "# Run parameters -> part you can play with\n",
    "# Every parameter needs to be as list (if np.array write inside brackets por favor)\n",
    "degrees = []\n",
    "gammas = [np.logspace(-8, -4, 15)]\n",
    "lambdas = []\n",
    "method = logistic_regression\n",
    "\n",
    "# Gradient parameters, indicate if you are using a gradient method (True/False)\n",
    "Grad_method = True\n",
    "max_iter = 100\n",
    "w_init = []\n",
    "\n",
    "grad = [Grad_method, w_init, max_iter]\n",
    "\n",
    "# Run-run-run\n",
    "weights, losses = optimization(y_tr, x_tr, method, degrees, gammas, lambdas, grad)\n",
    "\n",
    "# Plot-plot-plot\n",
    "accuracy = np.zeros(len(weights))\n",
    "for ind, w in enumerate(weights):\n",
    "    accuracy[ind] = test_logistic_score(y, tX, w)\n",
    "    \n",
    "plotML_gamma(accuracy, gammas[0])"
   ]
  },
  {
   "cell_type": "code",
   "execution_count": 301,
   "metadata": {},
   "outputs": [
    {
     "name": "stdout",
     "output_type": "stream",
     "text": [
      "[nan nan nan nan nan nan nan nan nan nan nan nan nan nan nan nan nan nan\n",
      " nan nan nan nan nan nan nan nan nan nan nan nan nan nan nan nan nan nan\n",
      " nan nan nan nan nan nan nan nan nan nan nan nan nan nan nan nan nan nan\n",
      " nan nan nan nan nan nan nan nan nan nan nan nan nan nan nan nan nan nan\n",
      " nan nan nan nan nan nan nan nan nan nan nan nan nan nan nan nan nan nan\n",
      " nan]\n"
     ]
    }
   ],
   "source": [
    "# Hum... je pense qu'on a un probleme avec build poly et least_squares\n",
    "\n",
    "max_iter = 100\n",
    "x = build_poly(tX, 3)\n",
    "w_init = np.zeros(x.shape[1])\n",
    "gamma = 1e-6\n",
    "\n",
    "w, loss = least_squares_GD(y, x, w_init, max_iter, gamma)\n",
    "print(w)"
   ]
  },
  {
   "cell_type": "code",
   "execution_count": 404,
   "metadata": {},
   "outputs": [
    {
     "name": "stdout",
     "output_type": "stream",
     "text": [
      "index 0\n",
      "validation accuracy :  0.8444677976279837\n",
      "index 1\n",
      "validation accuracy :  0.7814172416016506\n",
      "index 2\n",
      "validation accuracy :  0.8220524017467249\n",
      "index 3\n",
      "validation accuracy :  0.8204376268892398\n",
      "total accuracy : 0.8182636347273055\n",
      "gamma =  1e-12\n",
      "index 0\n",
      "validation accuracy :  0.8444677976279837\n",
      "index 1\n",
      "validation accuracy :  0.7814172416016506\n",
      "index 2\n",
      "validation accuracy :  0.8220524017467249\n",
      "index 3\n",
      "validation accuracy :  0.8204376268892398\n",
      "total accuracy : 0.8182636347273055\n",
      "gamma =  1e-10\n",
      "index 0\n",
      "validation accuracy :  0.8444677976279837\n",
      "index 1\n",
      "validation accuracy :  0.7814172416016506\n",
      "index 2\n",
      "validation accuracy :  0.8220524017467249\n",
      "index 3\n",
      "validation accuracy :  0.8204376268892398\n",
      "total accuracy : 0.8182636347273055\n",
      "gamma =  1e-08\n",
      "index 0\n",
      "validation accuracy :  0.8444677976279837\n",
      "index 1\n",
      "validation accuracy :  0.7814172416016506\n",
      "index 2\n",
      "validation accuracy :  0.8220524017467249\n",
      "index 3\n",
      "validation accuracy :  0.8204376268892398\n",
      "total accuracy : 0.8182636347273055\n"
     ]
    }
   ],
   "source": [
    "def jet_ski(y, tX, methods, parameters):\n",
    "    ratio = 0.8\n",
    "    seed = 1\n",
    "    \n",
    "    pred = []\n",
    "    Y =[]\n",
    "    #tX = build_poly(tX,2)\n",
    "    \n",
    "    \n",
    "    jets_y, jets_tX,_ = cat_variables(y, tX,ids)\n",
    "    \n",
    "    My_options = ['nanmed', 'bound', 'zerovar','std']\n",
    "    \n",
    "    for ind in range(len(jets_y)):\n",
    "        jets_y[ind], jets_tX[ind] = process_data(jets_y[ind], jets_tX[ind], My_options)\n",
    "        cross_terms_tx_train = build_cross_terms(jets_tX[ind])\n",
    "        final_tX = np.c_[jets_tX[ind], cross_terms_tx_train]\n",
    "        \n",
    "        y_tr, x_tr, y_te, x_te = split_data(jets_y[ind], final_tX, ratio, seed)\n",
    "       \n",
    "        #w_initial = np.zeros(x_tr.shape[1])\n",
    "        param = [y_tr, x_tr]\n",
    "        P = param + parameters\n",
    "\n",
    "        w,loss = test_methods(methods, P)\n",
    "        \n",
    "        #pred_train = predict(x_tr, w)\n",
    "        pred_test = predict(x_te, w)\n",
    "        print(\"index\", ind)\n",
    "        print(\"validation accuracy : \", np.sum(pred_test==y_te)/pred_test.shape[0])\n",
    "        \n",
    "        pred.append(pred_test)\n",
    "        Y.append(y_te)\n",
    "    \n",
    "    pred =np.concatenate(pred, 0)\n",
    "    Y = np.concatenate(Y,0)\n",
    "    \n",
    "    print(\"total accuracy :\", np.sum(pred==Y)/pred.shape[0])\n",
    "    \n",
    "#max_iters = 5000\n",
    "#gamma = 2.89e-10\n",
    "gammas = np.logspace(-12, -8, 10)\n",
    "\n",
    "   \n",
    "def jet_ski(y, tX, methods, parameters):\n",
    "    ratio = 0.8\n",
    "    seed = 1\n",
    "    \n",
    "    pred = []\n",
    "    Y =[]\n",
    "    #tX = build_poly(tX,2)\n",
    "    \n",
    "    \n",
    "    jets_y, jets_tX,_ = cat_variables(y, tX,ids)\n",
    "    \n",
    "    My_options = ['nanmed', 'bound', 'zerovar','std']\n",
    "    \n",
    "    for ind in range(len(jets_y)):\n",
    "        jets_y[ind], jets_tX[ind] = process_data(jets_y[ind], jets_tX[ind], My_options)\n",
    "        cross_terms_tx_train = build_cross_terms(jets_tX[ind])\n",
    "        final_tX = np.c_[jets_tX[ind], cross_terms_tx_train]\n",
    "        \n",
    "        y_tr, x_tr, y_te, x_te = split_data(jets_y[ind], final_tX, ratio, seed)\n",
    "       \n",
    "        #w_initial = np.zeros(x_tr.shape[1])\n",
    "        param = [y_tr, x_tr]\n",
    "        P = param + parameters\n",
    "\n",
    "        w,loss = test_methods(methods, P)\n",
    "        \n",
    "        #pred_train = predict(x_tr, w)\n",
    "        pred_test = predict(x_te, w)\n",
    "        print(\"index\", ind)\n",
    "        print(\"validation accuracy : \", np.sum(pred_test==y_te)/pred_test.shape[0])\n",
    "        \n",
    "        pred.append(pred_test)\n",
    "        Y.append(y_te)\n",
    "    \n",
    "    pred =np.concatenate(pred, 0)\n",
    "    Y = np.concatenate(Y,0)\n",
    "    \n",
    "    print(\"total accuracy :\", np.sum(pred==Y)/pred.shape[0])\n",
    "    \n",
    "#max_iters = 5000\n",
    "#gamma = 2.89e-10\n",
    "gammas = np.logspace(-12, -8, 3)\n",
    "\n",
    "   \n",
    "jet_ski(y, tX, ridge_regression, parameters)\n",
    "    \n",
    "\n",
    "for gamma_ in gammas: \n",
    "    print(\"gamma = \", gamma_)\n",
    "    parameters = [gamma_]\n",
    "    jet_ski(y, tX, ridge_regression, parameters)\n",
    "    "
   ]
  },
  {
   "cell_type": "code",
   "execution_count": 399,
   "metadata": {},
   "outputs": [],
   "source": [
    "DATA_TEST_PATH = '../data/test.csv' # TODO: download train data and supply path here \n",
    "y_test, tX_test, ids_test = load_csv_data(DATA_TEST_PATH)"
   ]
  },
  {
   "cell_type": "code",
   "execution_count": 365,
   "metadata": {},
   "outputs": [
    {
     "name": "stdout",
     "output_type": "stream",
     "text": [
      "Analyzing jet 0\n",
      "Analyzing jet 1\n",
      "Analyzing jet 2\n",
      "Analyzing jet 3\n",
      "total accuracy : 0.3039430661096231\n"
     ]
    }
   ],
   "source": [
    "def jet_ski(y, tX,ids,y_test,tX_test,ids_test, methods, parameters):\n",
    "    ratio = 0.8\n",
    "    seed = 1\n",
    "    \n",
    "    pred = []\n",
    "    id_t =[]\n",
    "    Y =[]\n",
    "    tX = build_poly(tX,2)\n",
    "    tX_test = build_poly(tX_test,2)\n",
    "    \n",
    "    \n",
    "    jets_y, jets_tX, _ = cat_variables(y, tX, ids)\n",
    "    jets_y_test, jets_tX_test, id_test = cat_variables(y_test, tX_test, ids_test)\n",
    "    \n",
    "    \n",
    "    My_options = ['nanmed', 'bound', 'zerovar','std']\n",
    "    \n",
    "    for ind in range(len(jets_y)):\n",
    "        print('Analyzing jet {}'.format(ind))\n",
    "        jets_y[ind], jets_tX[ind] = process_data(jets_y[ind], jets_tX[ind], My_options)\n",
    "        jets_y_test[ind], jets_tX_test[ind] = process_data(jets_y_test[ind], jets_tX_test[ind], My_options)\n",
    "\n",
    "\n",
    "        cross_terms_tx_train = build_cross_terms(jets_tX[ind])\n",
    "        final_tX_train = np.c_[jets_tX[ind], cross_terms_tx_train]\n",
    "        \n",
    "        cross_terms_tx_test = build_cross_terms(jets_tX_test[ind])\n",
    "        final_tX_test = np.c_[jets_tX_test[ind], cross_terms_tx_test]\n",
    "\n",
    "        param = [jets_y[ind], final_tX_train]\n",
    "        P = param + parameters\n",
    "\n",
    "        w,loss = test_methods(methods, P)\n",
    "        \n",
    "        pred_test = predict(final_tX_test,w)\n",
    "        \n",
    "        pred.append(pred_test)\n",
    "        id_t.append(id_test[ind])\n",
    "        \n",
    "        Y.append(jets_y_test[ind])\n",
    "\n",
    " \n",
    "    \n",
    "    pred =np.concatenate(pred, 0)\n",
    "    id_t =np.concatenate(id_t,0)\n",
    "    Y =np.concatenate(Y,0)\n",
    "\n",
    "    print(\"total accuracy :\", np.sum(pred==Y)/pred.shape[0])\n",
    "\n",
    "\n",
    "    OUTPUT_PATH = \"submissionfloflo.csv\"    \n",
    "    \n",
    "    create_csv_submission(id_t, pred, OUTPUT_PATH)\n",
    "#max_iters = 5000\n",
    "gamma = 2.89e-10\n",
    "\n",
    "   \n",
    "parameters = [gamma]\n",
    "\n",
    "\n",
    "jet_ski(y, tX,ids,y_test,tX_test,ids_test, ridge_regression, parameters)\n",
    "    "
   ]
  },
  {
   "cell_type": "code",
   "execution_count": null,
   "metadata": {},
   "outputs": [],
   "source": []
  }
 ],
 "metadata": {
  "kernelspec": {
   "display_name": "Python 3",
   "language": "python",
   "name": "python3"
  },
  "language_info": {
   "codemirror_mode": {
    "name": "ipython",
    "version": 3
   },
   "file_extension": ".py",
   "mimetype": "text/x-python",
   "name": "python",
   "nbconvert_exporter": "python",
   "pygments_lexer": "ipython3",
   "version": "3.7.4"
  }
 },
 "nbformat": 4,
 "nbformat_minor": 2
}
