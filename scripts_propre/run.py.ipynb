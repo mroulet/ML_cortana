{
 "cells": [
  {
   "cell_type": "code",
   "execution_count": 55,
   "metadata": {},
   "outputs": [
    {
     "name": "stdout",
     "output_type": "stream",
     "text": [
      "The autoreload extension is already loaded. To reload it, use:\n",
      "  %reload_ext autoreload\n"
     ]
    }
   ],
   "source": [
    "# Useful starting lines\n",
    "%matplotlib inline\n",
    "import numpy as np\n",
    "import matplotlib.pyplot as plt\n",
    "%load_ext autoreload\n",
    "%autoreload 2"
   ]
  },
  {
   "cell_type": "code",
   "execution_count": 56,
   "metadata": {},
   "outputs": [],
   "source": [
    "from proj1_helpers import *\n",
    "from implementations import *\n",
    "from helpers import *\n",
    "from data_manager import *\n",
    "from runners import *\n",
    "from plot import *"
   ]
  },
  {
   "cell_type": "code",
   "execution_count": 57,
   "metadata": {},
   "outputs": [],
   "source": [
    "DATA_TRAIN_PATH = '../data/train.csv' # TODO: download train data and supply path here \n",
    "y, tX, ids = load_csv_data(DATA_TRAIN_PATH)"
   ]
  },
  {
   "cell_type": "markdown",
   "metadata": {},
   "source": [
    "### Test consol"
   ]
  },
  {
   "cell_type": "raw",
   "metadata": {},
   "source": [
    "Test consol allows to simulate all learning methods with any parameters (presented in forms of lists), any processing data tool and by spliting or cross validating the data\n",
    "\n",
    "Reminder for My_options (processing data):\n",
    "     nandel -> delete nan values (-999.)\n",
    "     nanmed -> replace -999. with mean\n",
    "     bound -> eliminate outliers\n",
    "     std -> standardize data set\n",
    "     prb -> change y into probability values\n",
    "     zerovar -> eliminate columns with no varinaces\n"
   ]
  },
  {
   "cell_type": "code",
   "execution_count": 54,
   "metadata": {},
   "outputs": [
    {
     "name": "stdout",
     "output_type": "stream",
     "text": [
      "runing with two types of parameter...\n",
      "runing degree 1\n",
      "runing degree 2\n",
      "runing degree 3\n",
      "runing degree 4\n",
      "runing degree 5\n",
      "runing degree 6\n",
      "runing degree 7\n",
      "runing degree 8\n",
      "runing degree 9\n",
      "Score: % 72.546808030679\n",
      "Score: % 81.3670200766975\n",
      "Score: % 81.23167155425219\n",
      "Score: % 84.07399052560342\n",
      "Score: % 84.27701330927138\n",
      "Score: % 84.57026844123618\n",
      "Score: % 84.52515226708776\n",
      "Score: % 84.79584931197834\n"
     ]
    },
    {
     "name": "stderr",
     "output_type": "stream",
     "text": [
      "The PostScript backend does not support transparency; partially transparent artists will be rendered opaque.\n",
      "The PostScript backend does not support transparency; partially transparent artists will be rendered opaque.\n"
     ]
    },
    {
     "name": "stdout",
     "output_type": "stream",
     "text": [
      "Score: % 84.81840739905256\n"
     ]
    },
    {
     "data": {
      "image/png": "[encoded data removed]",
      "text/plain": [
       "<Figure size 432x288 with 1 Axes>"
      ]
     },
     "metadata": {
      "needs_background": "light"
     },
     "output_type": "display_data"
    }
   ],
   "source": [
    "# Data processing -> part you can play with\n",
    "My_options = ['nanmed', 'bound', 'zerovar']\n",
    "\n",
    "# If you use jets\n",
    "jets_y, jets_tX, _ = cat_variables(y, tX, ids)\n",
    "y, tX = jets_y[3], jets_tX[3]\n",
    "\n",
    "#Split (split=True) or cross (split=False)\n",
    "split = True\n",
    "ratio = 0.8\n",
    "seed = 1\n",
    "\n",
    "\n",
    "# Parameters -> part you can play with\n",
    "# Every parameter needs to be in a list (if np.array write inside brackets por favor)\n",
    "degrees = [range(1, 10)]\n",
    "gammas = []\n",
    "lambdas = [[1.1253355826007645e-10]]\n",
    "method = ridge_regression\n",
    "\n",
    "# Gradient parameters, indicate if you are using a gradient method (True/False)\n",
    "Grad_method = False\n",
    "max_iter = 1000\n",
    "w_init = []\n",
    "\n",
    "'''Everything above can be modified'''\n",
    "#************************************************************************************************\n",
    "'''Everything under should not be modified'''\n",
    "\n",
    "y, tX = process_data(y, tX, My_options)\n",
    "y_tr, x_tr, y_te, x_te = split_data(y, tX, ratio, seed)\n",
    "grad = [Grad_method, w_init, max_iter]\n",
    "\n",
    "# Run-run-run\n",
    "if split:\n",
    "    weights, losses = optimization(y_tr, x_tr, method, degrees, gammas, lambdas, grad)\n",
    "else:\n",
    "    weights, losses = optimization_cross(y, tX, method, degrees, gammas, lambdas, grad)\n",
    "\n",
    "    \n",
    "\n",
    "# Plot-plot-plot\n",
    "\n",
    "logistic = False \n",
    "\n",
    "if 'prb' in My_options:\n",
    "    logistic = True\n",
    "    \n",
    "if len(weights) == 1:\n",
    "    if len(degrees[0]) == 1:\n",
    "        x_te = build_poly(x_te, degrees[0][0])\n",
    "    test_score(y_te, x_te, weights[0])\n",
    "elif lambdas :\n",
    "    if len(lambdas[0]) == 1:\n",
    "        plot_my_values(weights, y_te, x_te, degrees, gammas, [], logistic)\n",
    "elif degrees : \n",
    "    if len(degrees[0]) == 1:\n",
    "        x_te = build_poly(x_te, degrees[0][0])\n",
    "        plot_my_values(weights, y_te, x_te, [], gammas, lambdas, logistic)\n",
    "else :\n",
    "    plot_my_values(weights, y_te, x_te, degrees, gammas, lambdas, logistic)"
   ]
  },
  {
   "cell_type": "markdown",
   "metadata": {},
   "source": [
    "### Main 1"
   ]
  },
  {
   "cell_type": "code",
   "execution_count": 30,
   "metadata": {},
   "outputs": [
    {
     "name": "stdout",
     "output_type": "stream",
     "text": [
      "Data loaded\n",
      "least square GD learning ongoing...\n",
      "Score: % 70.748\n",
      "least square SGD learning ongoing...\n",
      "Score: % 69.452\n",
      "least square learning ongoing...\n",
      "Score: % 74.688\n",
      "ridge learning ongoing...\n",
      "Score: % 74.688\n",
      "logistic regression learning ongoing...\n",
      "Score: % 75.1365\n",
      "reg logistic regression learning ongoing...\n",
      "Score: % 75.09\n",
      "Best method is  logistic_regression : score =  0.751365\n"
     ]
    }
   ],
   "source": [
    "def test_main():\n",
    "    ''' TEST ALL RAW METHODS '''\n",
    "    \n",
    "    # Load train and test data\n",
    "    DATA_TRAIN_PATH = \"../data/train.csv\"\n",
    "    y, tx, ids = load_csv_data(DATA_TRAIN_PATH)\n",
    "    \n",
    "    print('Data loaded')\n",
    "    \n",
    "    methods = ['least_square_GD', \n",
    "               'least_square_SGD', \n",
    "               'least_squares', \n",
    "               'ridge_regression', \n",
    "               'logistic_regression', \n",
    "               'reg_logistic_regression']\n",
    "    \n",
    "    scores = []\n",
    "    \n",
    "    for method in methods:\n",
    "        scores.append(test(y, tx, method))\n",
    "\n",
    "    \n",
    "    index = np.argmax(scores)   \n",
    "    print('Best method is ', methods[index], ': score = ', scores[index])\n",
    "    \n",
    "test_main()"
   ]
  },
  {
   "cell_type": "markdown",
   "metadata": {},
   "source": [
    "### Model selection"
   ]
  },
  {
   "cell_type": "raw",
   "metadata": {},
   "source": [
    "Reminder for My_options (processing data):\n",
    "     nandel -> delete nan values (-999.)\n",
    "     nanmed -> replace -999. with mean\n",
    "     bound -> eliminate outliers\n",
    "     std -> standardize data set\n",
    "     prb -> change y into probability values\n",
    "     zerovar -> eliminate columns with no varinaces"
   ]
  },
  {
   "cell_type": "code",
   "execution_count": 22,
   "metadata": {},
   "outputs": [
    {
     "name": "stdout",
     "output_type": "stream",
     "text": [
      "Data loaded\n",
      "Selection of jet 0\n",
      "Data processed\n",
      "best for degree  5  lambda: 1e-12 -> RMSE  =  0.680278061886013\n",
      "best for degree  6  lambda: 1e-12 -> RMSE  =  0.6793823605223961\n",
      "best for degree  7  lambda: 1e-12 -> RMSE  =  0.6782717805724462\n",
      "best for degree  8  lambda: 2.571913809059347e-12 -> RMSE  =  0.6780140644580992\n",
      "Selection of jet 1\n",
      "Data processed\n",
      "best for degree  5  lambda: 2.571913809059347e-12 -> RMSE  =  0.7571239649417154\n",
      "best for degree  6  lambda: 7.443803013251697e-10 -> RMSE  =  0.7517342195221864\n",
      "best for degree  7  lambda: 7.443803013251697e-10 -> RMSE  =  0.7507742210248669\n",
      "best for degree  8  lambda: 1e-12 -> RMSE  =  0.7496615590124668\n",
      "Selection of jet 2\n",
      "Data processed\n",
      "best for degree  5  lambda: 1.9144819761699535e-09 -> RMSE  =  0.7106451707154525\n",
      "best for degree  6  lambda: 1.1253355826007645e-10 -> RMSE  =  0.7057623927378783\n",
      "best for degree  7  lambda: 1e-12 -> RMSE  =  0.7045770688251414\n",
      "best for degree  8  lambda: 1e-12 -> RMSE  =  0.7032418141432465\n",
      "Selection of jet 3\n",
      "Data processed\n",
      "best for degree  5  lambda: 1.1937766417144357e-09 -> RMSE  =  0.7198628216101401\n",
      "best for degree  6  lambda: 1.7012542798525856e-11 -> RMSE  =  0.7065798410614118\n",
      "best for degree  7  lambda: 1e-12 -> RMSE  =  0.7052526102122008\n",
      "best for degree  8  lambda: 1e-12 -> RMSE  =  0.7008581897186767\n"
     ]
    }
   ],
   "source": [
    "# Load train and test data\n",
    "DATA_TRAIN_PATH = \"../data/train.csv\"\n",
    "y, tx, ids = load_csv_data(DATA_TRAIN_PATH)\n",
    "print('Data loaded')\n",
    "\n",
    "jets_y, jets_tX, _ = cat_variables(y, tx, ids)\n",
    "\n",
    "for i in range(len(jets_y)):\n",
    "    \n",
    "    print('Selection of jet', i)\n",
    "    \n",
    "    My_options = ['nanmed', 'bound', 'zerovar']\n",
    "    y, processed_tx_train = process_data(jets_y[i], jets_tX[i], My_options)\n",
    "    print('Data processed')\n",
    "\n",
    "    # Find the optimal parameters for ridge regression\n",
    "    optimal_degree, optimal_lambda = optimal_hyperparameters(y, processed_tx_train)"
   ]
  },
  {
   "cell_type": "markdown",
   "metadata": {},
   "source": [
    "## accuracy test for the best model : ridge-regression with poly/cross-term/Jet values"
   ]
  },
  {
   "cell_type": "code",
   "execution_count": 63,
   "metadata": {},
   "outputs": [
    {
     "name": "stdout",
     "output_type": "stream",
     "text": [
      "jet number :  0\n",
      "validation accuracy :  0.8552269429014663\n",
      "jet number :  1\n",
      "validation accuracy :  0.8110129602166484\n",
      "jet number :  2\n",
      "validation accuracy :  0.8401151250496228\n",
      "jet number :  3\n",
      "validation accuracy :  0.8490863974734942\n",
      "total accuracy : 0.8379232415351693\n"
     ]
    }
   ],
   "source": [
    "def jet_accuracy_test(y, tX, methods, parameters):\n",
    "    ratio = 0.8\n",
    "    seed = 1\n",
    "    \n",
    "    pred = []\n",
    "    Y =[]\n",
    "    \n",
    "    \n",
    "    \n",
    "    jets_y, jets_tX, _ = cat_variables(y, tX, ids)\n",
    "    \n",
    "    My_options = ['nanmed', 'bound', 'zerovar']\n",
    "    \n",
    "    for ind in range(len(jets_y)):\n",
    "        jets_y[ind], jets_tX[ind] = process_data(jets_y[ind], jets_tX[ind], My_options)\n",
    "        final_tX = np.c_[build_poly(jets_tX[ind],degres[ind]), build_cross_terms(jets_tX[ind])]\n",
    "     \n",
    "        \n",
    "        y_tr, x_tr, y_te, x_te = split_data(jets_y[ind], final_tX, ratio, seed)\n",
    "       \n",
    "        \n",
    "        param = [y_tr, x_tr,gammas[ind]]\n",
    "\n",
    "        w,loss = test_methods(methods, param)\n",
    "        \n",
    "        pred_test = predict(x_te, w)\n",
    "        print(\"jet number : \", ind)\n",
    "        print(\"validation accuracy : \", np.sum(pred_test==y_te)/pred_test.shape[0])\n",
    "        \n",
    "        pred.append(pred_test)\n",
    "        Y.append(y_te)\n",
    "    \n",
    "    pred =np.concatenate(pred, 0)\n",
    "    Y = np.concatenate(Y,0)\n",
    "    \n",
    "    print(\"total accuracy :\", np.sum(pred==Y)/pred.shape[0])\n",
    "    \n",
    "\n",
    "gammas = [1e-12,7.443803013251697e-10,1.1253355826007645e-10,1.7012542798525856e-11]\n",
    "degres = [6,7,6,6]\n",
    "\n",
    "DATA_TRAIN_PATH = '../data/train.csv' # TODO: download train data and supply path here \n",
    "y, tX, ids = load_csv_data(DATA_TRAIN_PATH)\n",
    "parameters = gammas\n",
    "jet_accuracy_test(y, tX, ridge_regression, parameters)\n",
    "\n"
   ]
  },
  {
   "cell_type": "code",
   "execution_count": 59,
   "metadata": {},
   "outputs": [],
   "source": [
    "DATA_TEST_PATH = '../data/test.csv' # TODO: download train data and supply path here \n",
    "y_test, tX_test, ids_test = load_csv_data(DATA_TEST_PATH)"
   ]
  },
  {
   "cell_type": "markdown",
   "metadata": {},
   "source": [
    "## submission of prediction with the best model : ridge-regresion with poly/cross-term/jet values"
   ]
  },
  {
   "cell_type": "code",
   "execution_count": 66,
   "metadata": {},
   "outputs": [
    {
     "name": "stdout",
     "output_type": "stream",
     "text": [
      "Analyzing jet 0\n",
      "Analyzing jet 1\n"
     ]
    },
    {
     "ename": "KeyboardInterrupt",
     "evalue": "",
     "output_type": "error",
     "traceback": [
      "\u001b[0;31m---------------------------------------------------------------------------\u001b[0m",
      "\u001b[0;31mKeyboardInterrupt\u001b[0m                         Traceback (most recent call last)",
      "\u001b[0;32m<ipython-input-66-b573b4a69a15>\u001b[0m in \u001b[0;36m<module>\u001b[0;34m\u001b[0m\n\u001b[1;32m     64\u001b[0m \u001b[0;34m\u001b[0m\u001b[0m\n\u001b[1;32m     65\u001b[0m \u001b[0;34m\u001b[0m\u001b[0m\n\u001b[0;32m---> 66\u001b[0;31m \u001b[0mmain\u001b[0m\u001b[0;34m(\u001b[0m\u001b[0my\u001b[0m\u001b[0;34m,\u001b[0m \u001b[0mtX\u001b[0m\u001b[0;34m,\u001b[0m\u001b[0mids\u001b[0m\u001b[0;34m,\u001b[0m\u001b[0my_test\u001b[0m\u001b[0;34m,\u001b[0m\u001b[0mtX_test\u001b[0m\u001b[0;34m,\u001b[0m\u001b[0mids_test\u001b[0m\u001b[0;34m,\u001b[0m \u001b[0mridge_regression\u001b[0m\u001b[0;34m,\u001b[0m \u001b[0mparameters\u001b[0m\u001b[0;34m)\u001b[0m\u001b[0;34m\u001b[0m\u001b[0;34m\u001b[0m\u001b[0m\n\u001b[0m\u001b[1;32m     67\u001b[0m \u001b[0;34m\u001b[0m\u001b[0m\n",
      "\u001b[0;32m<ipython-input-66-b573b4a69a15>\u001b[0m in \u001b[0;36mmain\u001b[0;34m(y, tX, ids, y_test, tX_test, ids_test, methods, parameters)\u001b[0m\n\u001b[1;32m     34\u001b[0m         \u001b[0;31m#construction of the final features containing polynomiale features and cross-terms\u001b[0m\u001b[0;34m\u001b[0m\u001b[0;34m\u001b[0m\u001b[0;34m\u001b[0m\u001b[0m\n\u001b[1;32m     35\u001b[0m         \u001b[0mfinal_tX_train\u001b[0m \u001b[0;34m=\u001b[0m \u001b[0mnp\u001b[0m\u001b[0;34m.\u001b[0m\u001b[0mc_\u001b[0m\u001b[0;34m[\u001b[0m\u001b[0mbuild_poly\u001b[0m\u001b[0;34m(\u001b[0m\u001b[0mjets_tX\u001b[0m\u001b[0;34m[\u001b[0m\u001b[0mind\u001b[0m\u001b[0;34m]\u001b[0m\u001b[0;34m,\u001b[0m\u001b[0mdegres\u001b[0m\u001b[0;34m[\u001b[0m\u001b[0mind\u001b[0m\u001b[0;34m]\u001b[0m\u001b[0;34m)\u001b[0m\u001b[0;34m,\u001b[0m \u001b[0mbuild_cross_terms\u001b[0m\u001b[0;34m(\u001b[0m\u001b[0mjets_tX\u001b[0m\u001b[0;34m[\u001b[0m\u001b[0mind\u001b[0m\u001b[0;34m]\u001b[0m\u001b[0;34m)\u001b[0m\u001b[0;34m]\u001b[0m\u001b[0;34m\u001b[0m\u001b[0;34m\u001b[0m\u001b[0m\n\u001b[0;32m---> 36\u001b[0;31m         \u001b[0mfinal_tX_test\u001b[0m \u001b[0;34m=\u001b[0m \u001b[0mnp\u001b[0m\u001b[0;34m.\u001b[0m\u001b[0mc_\u001b[0m\u001b[0;34m[\u001b[0m\u001b[0mbuild_poly\u001b[0m\u001b[0;34m(\u001b[0m\u001b[0mjets_tX_test\u001b[0m\u001b[0;34m[\u001b[0m\u001b[0mind\u001b[0m\u001b[0;34m]\u001b[0m\u001b[0;34m,\u001b[0m\u001b[0mdegres\u001b[0m\u001b[0;34m[\u001b[0m\u001b[0mind\u001b[0m\u001b[0;34m]\u001b[0m\u001b[0;34m)\u001b[0m\u001b[0;34m,\u001b[0m \u001b[0mbuild_cross_terms\u001b[0m\u001b[0;34m(\u001b[0m\u001b[0mjets_tX_test\u001b[0m\u001b[0;34m[\u001b[0m\u001b[0mind\u001b[0m\u001b[0;34m]\u001b[0m\u001b[0;34m)\u001b[0m\u001b[0;34m]\u001b[0m\u001b[0;34m\u001b[0m\u001b[0;34m\u001b[0m\u001b[0m\n\u001b[0m\u001b[1;32m     37\u001b[0m \u001b[0;34m\u001b[0m\u001b[0m\n\u001b[1;32m     38\u001b[0m         \u001b[0;31m#parameters token by the chosen method\u001b[0m\u001b[0;34m\u001b[0m\u001b[0;34m\u001b[0m\u001b[0;34m\u001b[0m\u001b[0m\n",
      "\u001b[0;32m~/Desktop/EPFL/Master/project1/ML_cortana/scripts_propre/helpers.py\u001b[0m in \u001b[0;36mbuild_cross_terms\u001b[0;34m(tx)\u001b[0m\n\u001b[1;32m    234\u001b[0m \u001b[0;34m\u001b[0m\u001b[0m\n\u001b[1;32m    235\u001b[0m             \u001b[0;32melse\u001b[0m\u001b[0;34m:\u001b[0m\u001b[0;34m\u001b[0m\u001b[0;34m\u001b[0m\u001b[0m\n\u001b[0;32m--> 236\u001b[0;31m                 \u001b[0mcross_terms\u001b[0m \u001b[0;34m=\u001b[0m \u001b[0mnp\u001b[0m\u001b[0;34m.\u001b[0m\u001b[0mc_\u001b[0m\u001b[0;34m[\u001b[0m\u001b[0mcross_terms\u001b[0m\u001b[0;34m,\u001b[0m \u001b[0mtx\u001b[0m\u001b[0;34m[\u001b[0m\u001b[0;34m:\u001b[0m\u001b[0;34m,\u001b[0m \u001b[0mfeature1\u001b[0m\u001b[0;34m]\u001b[0m \u001b[0;34m*\u001b[0m \u001b[0mtx\u001b[0m\u001b[0;34m[\u001b[0m\u001b[0;34m:\u001b[0m\u001b[0;34m,\u001b[0m \u001b[0mfeature2\u001b[0m\u001b[0;34m]\u001b[0m\u001b[0;34m]\u001b[0m\u001b[0;34m\u001b[0m\u001b[0;34m\u001b[0m\u001b[0m\n\u001b[0m\u001b[1;32m    237\u001b[0m \u001b[0;34m\u001b[0m\u001b[0m\n\u001b[1;32m    238\u001b[0m     \u001b[0;32mreturn\u001b[0m \u001b[0mcross_terms\u001b[0m\u001b[0;34m\u001b[0m\u001b[0;34m\u001b[0m\u001b[0m\n",
      "\u001b[0;31mKeyboardInterrupt\u001b[0m: "
     ]
    }
   ],
   "source": [
    "def main(y, tX,ids,y_test,tX_test,ids_test, methods, parameters):\n",
    "    \"\"\"\n",
    "    \n",
    "    \n",
    "    \n",
    "    \n",
    "    \"\"\"\n",
    "    \n",
    "    #load datas \n",
    "    DATA_TRAIN_PATH = '../data/train.csv' \n",
    "    y, tX, ids = load_csv_data(DATA_TRAIN_PATH)\n",
    "\n",
    "    DATA_TEST_PATH = '../data/test.csv' \n",
    "    y_test, tX_test, ids_test = load_csv_data(DATA_TEST_PATH)\n",
    "\n",
    "    #best parameters found from learning\n",
    "    gammas = [1e-12,7.443803013251697e-10,1.1253355826007645e-10,1.7012542798525856e-11]\n",
    "    degres = [6,7,6,6]\n",
    "    \n",
    "    \n",
    "    pred = []\n",
    "    id_t =[]\n",
    "    \n",
    "    #create jet_num\n",
    "    jets_y, jets_tX, _ = cat_variables(y, tX, ids)\n",
    "    jets_y_test, jets_tX_test, id_test = cat_variables(y_test, tX_test, ids_test)\n",
    "    \n",
    "    #pre-processing options chosen\n",
    "        #convert nan values with median\n",
    "        #\n",
    "        #\n",
    "        #\n",
    "    My_options = ['nanmed', 'bound', 'zerovar','std']\n",
    "    \n",
    "    #iteration in each jet_num batch\n",
    "    for ind in range(len(jets_y)):\n",
    "        print('Analyzing jet {}'.format(ind))\n",
    "        \n",
    "        #pre-process data (train and test)\n",
    "        jets_y[ind], jets_tX[ind] = process_data(jets_y[ind], jets_tX[ind], My_options)\n",
    "        jets_y_test[ind], jets_tX_test[ind] = process_data(jets_y_test[ind], jets_tX_test[ind], My_options)\n",
    "\n",
    "        #construction of the final features containing polynomiale features and cross-terms\n",
    "        final_tX_train = np.c_[build_poly(jets_tX[ind],degres[ind]), build_cross_terms(jets_tX[ind])]\n",
    "        final_tX_test = np.c_[build_poly(jets_tX_test[ind],degres[ind]), build_cross_terms(jets_tX_test[ind])]\n",
    "\n",
    "        #parameters token by the chosen method\n",
    "        param = [jets_y[ind], final_tX_train, gammas[ind]]\n",
    "       \n",
    "        #create weights and losses\n",
    "        w,loss = test_methods(methods, param)\n",
    "        \n",
    "        #creation of predictions\n",
    "        pred_test = predict(final_tX_test,w)\n",
    "        \n",
    "        #lists of prediction and ids for each jet batch\n",
    "        pred.append(pred_test)\n",
    "        id_t.append(id_test[ind])\n",
    "\n",
    "\n",
    " \n",
    "    # concatenation lists of ids and predictions for each jet batch in a single well arranged array\n",
    "    pred =np.concatenate(pred, 0)\n",
    "    id_t =np.concatenate(id_t,0)\n",
    "\n",
    "\n",
    "    #submission\n",
    "    OUTPUT_PATH = \"submissionfloflolog.csv\"    \n",
    "    create_csv_submission(id_t, pred, OUTPUT_PATH)\n",
    "    print('Submission saved as ', OUTPUT_PATH)\n",
    "\n",
    "    \n",
    "\n",
    "\n",
    "main(y, tX,ids,y_test,tX_test,ids_test, ridge_regression, parameters)\n",
    "    "
   ]
  },
  {
   "cell_type": "code",
   "execution_count": null,
   "metadata": {},
   "outputs": [],
   "source": []
  }
 ],
 "metadata": {
  "kernelspec": {
   "display_name": "Python 3",
   "language": "python",
   "name": "python3"
  },
  "language_info": {
   "codemirror_mode": {
    "name": "ipython",
    "version": 3
   },
   "file_extension": ".py",
   "mimetype": "text/x-python",
   "name": "python",
   "nbconvert_exporter": "python",
   "pygments_lexer": "ipython3",
   "version": "3.7.4"
  }
 },
 "nbformat": 4,
 "nbformat_minor": 2
}
