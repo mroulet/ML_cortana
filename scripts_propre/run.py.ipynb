{
 "cells": [
  {
   "cell_type": "code",
   "execution_count": 108,
   "metadata": {},
   "outputs": [
    {
     "name": "stdout",
     "output_type": "stream",
     "text": [
      "The autoreload extension is already loaded. To reload it, use:\n",
      "  %reload_ext autoreload\n"
     ]
    }
   ],
   "source": [
    "# Useful starting lines\n",
    "%matplotlib inline\n",
    "import numpy as np\n",
    "import matplotlib.pyplot as plt\n",
    "%load_ext autoreload\n",
    "%autoreload 2"
   ]
  },
  {
   "cell_type": "code",
   "execution_count": 112,
   "metadata": {},
   "outputs": [],
   "source": [
    "from implementations import *\n",
    "from helpers import *\n",
    "from data_manager import *\n",
    "from runners import *\n",
    "from plot import *"
   ]
  },
  {
   "cell_type": "code",
   "execution_count": 113,
   "metadata": {},
   "outputs": [],
   "source": [
    "from proj1_helpers import *\n",
    "DATA_TRAIN_PATH = '../data/train.csv' # TODO: download train data and supply path here \n",
    "y, tX, ids = load_csv_data(DATA_TRAIN_PATH)"
   ]
  },
  {
   "cell_type": "markdown",
   "metadata": {},
   "source": [
    "### Test consol"
   ]
  },
  {
   "cell_type": "raw",
   "metadata": {},
   "source": [
    "Test consol allows to simulate all learning methods with any parameters (presented in forms of lists), any processing data tool and by spliting or cross validating the data\n",
    "\n",
    "Reminder for My_options (processing data):\n",
    "     nandel -> delete nan values (-999.)\n",
    "     nanmed -> replace -999. with mean\n",
    "     bound -> eliminate outliers\n",
    "     std -> standardize data set\n",
    "     prb -> change y into probability values\n",
    "     zerovar -> eliminate columns with no varinaces\n"
   ]
  },
  {
   "cell_type": "code",
   "execution_count": 114,
   "metadata": {},
   "outputs": [
    {
     "name": "stdout",
     "output_type": "stream",
     "text": [
      "runing degree 1\n",
      "runing degree 2\n",
      "runing degree 3\n",
      "runing degree 4\n",
      "runing degree 5\n",
      "runing degree 6\n",
      "runing degree 7\n",
      "runing degree 8\n",
      "runing degree 9\n",
      "Score: % 74.648\n",
      "Score: % 79.23400000000001\n",
      "Score: % 78.96600000000001\n",
      "Score: % 80.828\n",
      "Score: % 80.646\n",
      "Score: % 80.398\n",
      "Score: % 79.45\n",
      "Score: % 72.53399999999999\n",
      "Score: % 69.64\n"
     ]
    },
    {
     "data": {
      "image/png": "[encoded data removed]",
      "text/plain": [
       "<Figure size 432x288 with 1 Axes>"
      ]
     },
     "metadata": {
      "needs_background": "light"
     },
     "output_type": "display_data"
    }
   ],
   "source": [
    "# Data processing -> part you can play with\n",
    "My_options = ['nanmed', 'bound', 'std']\n",
    "y, tX = process_data(y, tX, My_options)\n",
    "\n",
    "#Split (split=True) or cross (split=False)\n",
    "split = True\n",
    "ratio = 0.8\n",
    "seed = 1\n",
    "\n",
    "# Parameters -> part you can play with\n",
    "# Every parameter needs to be in a list (if np.array write inside brackets por favor)\n",
    "degrees = [range(1, 10)]\n",
    "gammas = []\n",
    "lambdas = []\n",
    "method = least_squares\n",
    "\n",
    "# Gradient parameters, indicate if you are using a gradient method (True/False)\n",
    "Grad_method = False\n",
    "max_iter = 100\n",
    "w_init = []\n",
    "\n",
    "'''Every thing above can be modified'''\n",
    "#************************************************************************************************\n",
    "'''Every thing under should not be modified'''\n",
    "\n",
    "grad = [Grad_method, w_init, max_iter]\n",
    "\n",
    "# Run-run-run\n",
    "if split:\n",
    "    y_tr, x_tr, y_te, x_te = split_data(y, tX, ratio, seed)\n",
    "    weights, losses = optimization(y_tr, x_tr, method, degrees, gammas, lambdas, grad)\n",
    "else:\n",
    "    weights, losses = optimization_cross(y, tX, method, degrees, gammas, lambdas, grad)\n",
    "\n",
    "\n",
    "# Plot-plot-plot\n",
    "\n",
    "logistic = False \n",
    "\n",
    "if 'prb' in My_options:\n",
    "    logistic = True\n",
    "    \n",
    "if len(weights) == 1:\n",
    "    test_score(y_te, x_te, weights[0])\n",
    "else :\n",
    "    plot_my_values(weights, y_te, x_te, degrees, gammas, lambdas, logistic)"
   ]
  },
  {
   "cell_type": "markdown",
   "metadata": {},
   "source": [
    "### Jet values"
   ]
  },
  {
   "cell_type": "code",
   "execution_count": 25,
   "metadata": {},
   "outputs": [
    {
     "ename": "NameError",
     "evalue": "name 'parameters' is not defined",
     "output_type": "error",
     "traceback": [
      "\u001b[0;31m---------------------------------------------------------------------------\u001b[0m",
      "\u001b[0;31mNameError\u001b[0m                                 Traceback (most recent call last)",
      "\u001b[0;32m<ipython-input-25-c4a86ac799d6>\u001b[0m in \u001b[0;36m<module>\u001b[0;34m\u001b[0m\n\u001b[1;32m     87\u001b[0m \u001b[0;34m\u001b[0m\u001b[0m\n\u001b[1;32m     88\u001b[0m \u001b[0;34m\u001b[0m\u001b[0m\n\u001b[0;32m---> 89\u001b[0;31m \u001b[0mjet_ski\u001b[0m\u001b[0;34m(\u001b[0m\u001b[0my\u001b[0m\u001b[0;34m,\u001b[0m \u001b[0mtX\u001b[0m\u001b[0;34m,\u001b[0m \u001b[0mridge_regression\u001b[0m\u001b[0;34m,\u001b[0m \u001b[0mparameters\u001b[0m\u001b[0;34m)\u001b[0m\u001b[0;34m\u001b[0m\u001b[0;34m\u001b[0m\u001b[0m\n\u001b[0m\u001b[1;32m     90\u001b[0m \u001b[0;34m\u001b[0m\u001b[0m\n\u001b[1;32m     91\u001b[0m \"\"\"\n",
      "\u001b[0;31mNameError\u001b[0m: name 'parameters' is not defined"
     ]
    }
   ],
   "source": [
    "def jet_ski(y, tX, methods, parameters):\n",
    "    ratio = 0.8\n",
    "    seed = 1\n",
    "    \n",
    "    pred = []\n",
    "    Y =[]\n",
    "    #tX = build_poly(tX,2)\n",
    "    \n",
    "    \n",
    "    jets_y, jets_tX,_ = cat_variables(y, tX,ids)\n",
    "    \n",
    "    My_options = ['nanmed', 'bound', 'zerovar','std']\n",
    "    \n",
    "    for ind in range(len(jets_y)):\n",
    "        jets_y[ind], jets_tX[ind] = process_data(jets_y[ind], jets_tX[ind], My_options)\n",
    "        cross_terms_tx_train = build_cross_terms(jets_tX[ind])\n",
    "        final_tX = np.c_[jets_tX[ind], cross_terms_tx_train]\n",
    "        \n",
    "        y_tr, x_tr, y_te, x_te = split_data(jets_y[ind], final_tX, ratio, seed)\n",
    "       \n",
    "        #w_initial = np.zeros(x_tr.shape[1])\n",
    "        param = [y_tr, x_tr]\n",
    "        P = param + parameters\n",
    "\n",
    "        w,loss = test_methods(methods, P)\n",
    "        \n",
    "        #pred_train = predict(x_tr, w)\n",
    "        pred_test = predict(x_te, w)\n",
    "        print(\"index\", ind)\n",
    "        print(\"validation accuracy : \", np.sum(pred_test==y_te)/pred_test.shape[0])\n",
    "        \n",
    "        pred.append(pred_test)\n",
    "        Y.append(y_te)\n",
    "    \n",
    "    pred =np.concatenate(pred, 0)\n",
    "    Y = np.concatenate(Y,0)\n",
    "    \n",
    "    print(\"total accuracy :\", np.sum(pred==Y)/pred.shape[0])\n",
    "    \n",
    "#max_iters = 5000\n",
    "#gamma = 2.89e-10\n",
    "gammas = np.logspace(-12, -8, 10)\n",
    "\n",
    "   \n",
    "def jet_ski(y, tX, methods, parameters):\n",
    "    ratio = 0.8\n",
    "    seed = 1\n",
    "    \n",
    "    pred = []\n",
    "    Y =[]\n",
    "    #tX = build_poly(tX,2)\n",
    "    \n",
    "    \n",
    "    jets_y, jets_tX,_ = cat_variables(y, tX,ids)\n",
    "    \n",
    "    My_options = ['nanmed', 'bound', 'zerovar','std']\n",
    "    \n",
    "    for ind in range(len(jets_y)):\n",
    "        jets_y[ind], jets_tX[ind] = process_data(jets_y[ind], jets_tX[ind], My_options)\n",
    "        cross_terms_tx_train = build_cross_terms(jets_tX[ind])\n",
    "        final_tX = np.c_[jets_tX[ind], cross_terms_tx_train]\n",
    "        \n",
    "        y_tr, x_tr, y_te, x_te = split_data(jets_y[ind], final_tX, ratio, seed)\n",
    "       \n",
    "        #w_initial = np.zeros(x_tr.shape[1])\n",
    "        param = [y_tr, x_tr]\n",
    "        P = param + parameters\n",
    "\n",
    "        w,loss = test_methods(methods, P)\n",
    "        \n",
    "        #pred_train = predict(x_tr, w)\n",
    "        pred_test = predict(x_te, w)\n",
    "        print(\"index\", ind)\n",
    "        print(\"validation accuracy : \", np.sum(pred_test==y_te)/pred_test.shape[0])\n",
    "        \n",
    "        pred.append(pred_test)\n",
    "        Y.append(y_te)\n",
    "    \n",
    "    pred =np.concatenate(pred, 0)\n",
    "    Y = np.concatenate(Y,0)\n",
    "    \n",
    "    print(\"total accuracy :\", np.sum(pred==Y)/pred.shape[0])\n",
    "    \n",
    "#max_iters = 5000\n",
    "gamma = 2.89e-10\n",
    "gammas = np.logspace(-12, -8, 3)\n",
    "\n",
    "   \n",
    "jet_ski(y, tX, ridge_regression, parameters)\n",
    "    \n",
    "\"\"\"\n",
    "for gamma_ in gammas: \n",
    "    print(\"gamma = \", gamma_)\n",
    "    parameters = [gamma_]\n",
    "    jet_ski(y, tX, ridge_regression, parameters)\n",
    "\"\"\""
   ]
  },
  {
   "cell_type": "code",
   "execution_count": 399,
   "metadata": {},
   "outputs": [],
   "source": [
    "DATA_TEST_PATH = '../data/test.csv' # TODO: download train data and supply path here \n",
    "y_test, tX_test, ids_test = load_csv_data(DATA_TEST_PATH)"
   ]
  },
  {
   "cell_type": "code",
   "execution_count": 365,
   "metadata": {},
   "outputs": [
    {
     "name": "stdout",
     "output_type": "stream",
     "text": [
      "Analyzing jet 0\n",
      "Analyzing jet 1\n",
      "Analyzing jet 2\n",
      "Analyzing jet 3\n",
      "total accuracy : 0.3039430661096231\n"
     ]
    }
   ],
   "source": [
    "def jet_ski(y, tX,ids,y_test,tX_test,ids_test, methods, parameters):\n",
    "    ratio = 0.8\n",
    "    seed = 1\n",
    "    \n",
    "    pred = []\n",
    "    id_t =[]\n",
    "    Y =[]\n",
    "    tX = build_poly(tX,2)\n",
    "    tX_test = build_poly(tX_test,2)\n",
    "    \n",
    "    \n",
    "    jets_y, jets_tX, _ = cat_variables(y, tX, ids)\n",
    "    jets_y_test, jets_tX_test, id_test = cat_variables(y_test, tX_test, ids_test)\n",
    "    \n",
    "    \n",
    "    My_options = ['nanmed', 'bound', 'zerovar','std']\n",
    "    \n",
    "    for ind in range(len(jets_y)):\n",
    "        print('Analyzing jet {}'.format(ind))\n",
    "        jets_y[ind], jets_tX[ind] = process_data(jets_y[ind], jets_tX[ind], My_options)\n",
    "        jets_y_test[ind], jets_tX_test[ind] = process_data(jets_y_test[ind], jets_tX_test[ind], My_options)\n",
    "\n",
    "\n",
    "        cross_terms_tx_train = build_cross_terms(jets_tX[ind])\n",
    "        final_tX_train = np.c_[jets_tX[ind], cross_terms_tx_train]\n",
    "        \n",
    "        cross_terms_tx_test = build_cross_terms(jets_tX_test[ind])\n",
    "        final_tX_test = np.c_[jets_tX_test[ind], cross_terms_tx_test]\n",
    "\n",
    "        param = [jets_y[ind], final_tX_train]\n",
    "        P = param + parameters\n",
    "\n",
    "        w,loss = test_methods(methods, P)\n",
    "        \n",
    "        pred_test = predict(final_tX_test,w)\n",
    "        \n",
    "        pred.append(pred_test)\n",
    "        id_t.append(id_test[ind])\n",
    "        \n",
    "        Y.append(jets_y_test[ind])\n",
    "\n",
    " \n",
    "    \n",
    "    pred =np.concatenate(pred, 0)\n",
    "    id_t =np.concatenate(id_t,0)\n",
    "    Y =np.concatenate(Y,0)\n",
    "\n",
    "    print(\"total accuracy :\", np.sum(pred==Y)/pred.shape[0])\n",
    "\n",
    "\n",
    "    OUTPUT_PATH = \"submissionfloflo.csv\"    \n",
    "    \n",
    "    create_csv_submission(id_t, pred, OUTPUT_PATH)\n",
    "#max_iters = 5000\n",
    "gamma = 2.89e-10\n",
    "\n",
    "   \n",
    "parameters = [gamma]\n",
    "\n",
    "\n",
    "jet_ski(y, tX,ids,y_test,tX_test,ids_test, ridge_regression, parameters)\n",
    "    "
   ]
  },
  {
   "cell_type": "code",
   "execution_count": null,
   "metadata": {},
   "outputs": [],
   "source": []
  }
 ],
 "metadata": {
  "kernelspec": {
   "display_name": "Python 3",
   "language": "python",
   "name": "python3"
  },
  "language_info": {
   "codemirror_mode": {
    "name": "ipython",
    "version": 3
   },
   "file_extension": ".py",
   "mimetype": "text/x-python",
   "name": "python",
   "nbconvert_exporter": "python",
   "pygments_lexer": "ipython3",
   "version": "3.7.4"
  }
 },
 "nbformat": 4,
 "nbformat_minor": 2
}
