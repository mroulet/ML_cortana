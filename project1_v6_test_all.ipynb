{
 "cells": [
  {
   "cell_type": "code",
   "execution_count": 1,
   "metadata": {},
   "outputs": [],
   "source": [
    "# Useful starting lines\n",
    "%matplotlib inline\n",
    "import numpy as np\n",
    "import matplotlib.pyplot as plt\n",
    "from implementations import *\n",
    "from proj1_helpers import *\n",
    "%load_ext autoreload\n",
    "%autoreload 2"
   ]
  },
  {
   "cell_type": "markdown",
   "metadata": {},
   "source": [
    "## Load the training data into feature matrix, class labels, and event ids:"
   ]
  },
  {
   "cell_type": "code",
   "execution_count": 2,
   "metadata": {},
   "outputs": [],
   "source": [
    "from proj1_helpers import *\n",
    "DATA_TRAIN_PATH = \"../data/train.csv\"\n",
    "y, tX, ids = load_csv_data(DATA_TRAIN_PATH)"
   ]
  },
  {
   "cell_type": "markdown",
   "metadata": {},
   "source": [
    "## Do your thing crazy machine learning thing here :) ..."
   ]
  },
  {
   "cell_type": "markdown",
   "metadata": {},
   "source": [
    "## Generate predictions and save ouput in csv format for submission:"
   ]
  },
  {
   "cell_type": "code",
   "execution_count": 3,
   "metadata": {},
   "outputs": [],
   "source": [
    "DATA_TEST_PATH = \"../data/test.csv\"\n",
    "_, tX_test, ids_test = load_csv_data(DATA_TEST_PATH)"
   ]
  },
  {
   "cell_type": "code",
   "execution_count": 13,
   "metadata": {},
   "outputs": [
    {
     "name": "stdout",
     "output_type": "stream",
     "text": [
      "Data loaded\n",
      "Data processed\n",
      "Data standardized\n",
      "Poly built\n",
      "poly logistic regression learning ongoing...\n",
      "inf\n",
      "1618097538989.2424\n",
      "inf\n",
      "inf\n"
     ]
    },
    {
     "name": "stderr",
     "output_type": "stream",
     "text": [
      "/Users/margaux/Desktop/EPFL/MA1/Machine Learning/labs/01/ML_course/projects/project1/scripts/implementations.py:164: RuntimeWarning: invalid value encountered in double_scalars\n",
      "  if len(losses) > 1 and np.abs(losses[-1] - losses[-2]) < threshold:\n"
     ]
    },
    {
     "name": "stdout",
     "output_type": "stream",
     "text": [
      "inf\n",
      "inf\n",
      "inf\n",
      "inf\n",
      "inf\n",
      "inf\n",
      "inf\n",
      "inf\n",
      "inf\n",
      "inf\n",
      "inf\n",
      "inf\n",
      "inf\n",
      "inf\n",
      "inf\n",
      "inf\n",
      "inf\n",
      "inf\n",
      "inf\n",
      "inf\n",
      "inf\n",
      "inf\n",
      "inf\n",
      "inf\n",
      "inf\n",
      "inf\n",
      "inf\n",
      "inf\n",
      "inf\n",
      "inf\n",
      "inf\n",
      "inf\n",
      "inf\n"
     ]
    },
    {
     "ename": "KeyboardInterrupt",
     "evalue": "",
     "output_type": "error",
     "traceback": [
      "\u001b[0;31m---------------------------------------------------------------------------\u001b[0m",
      "\u001b[0;31mKeyboardInterrupt\u001b[0m                         Traceback (most recent call last)",
      "\u001b[0;32m<ipython-input-13-66ff9bc04604>\u001b[0m in \u001b[0;36m<module>\u001b[0;34m\u001b[0m\n\u001b[1;32m     34\u001b[0m     \u001b[0mprint\u001b[0m\u001b[0;34m(\u001b[0m\u001b[0;34m'Best method is '\u001b[0m\u001b[0;34m,\u001b[0m \u001b[0mmethods\u001b[0m\u001b[0;34m[\u001b[0m\u001b[0mindex\u001b[0m\u001b[0;34m]\u001b[0m\u001b[0;34m,\u001b[0m \u001b[0;34m': score = '\u001b[0m\u001b[0;34m,\u001b[0m \u001b[0mscores\u001b[0m\u001b[0;34m[\u001b[0m\u001b[0mindex\u001b[0m\u001b[0;34m]\u001b[0m\u001b[0;34m)\u001b[0m\u001b[0;34m\u001b[0m\u001b[0;34m\u001b[0m\u001b[0m\n\u001b[1;32m     35\u001b[0m \u001b[0;34m\u001b[0m\u001b[0m\n\u001b[0;32m---> 36\u001b[0;31m \u001b[0mtest_main\u001b[0m\u001b[0;34m(\u001b[0m\u001b[0;34m)\u001b[0m\u001b[0;34m\u001b[0m\u001b[0;34m\u001b[0m\u001b[0m\n\u001b[0m",
      "\u001b[0;32m<ipython-input-13-66ff9bc04604>\u001b[0m in \u001b[0;36mtest_main\u001b[0;34m()\u001b[0m\n\u001b[1;32m     28\u001b[0m     \u001b[0mscores\u001b[0m\u001b[0;34m.\u001b[0m\u001b[0mappend\u001b[0m\u001b[0;34m(\u001b[0m\u001b[0mtest_methods\u001b[0m\u001b[0;34m(\u001b[0m\u001b[0my\u001b[0m\u001b[0;34m,\u001b[0m\u001b[0mtx\u001b[0m\u001b[0;34m,\u001b[0m\u001b[0mmethods\u001b[0m\u001b[0;34m[\u001b[0m\u001b[0;36m5\u001b[0m\u001b[0;34m]\u001b[0m\u001b[0;34m)\u001b[0m\u001b[0;34m)\u001b[0m\u001b[0;34m\u001b[0m\u001b[0;34m\u001b[0m\u001b[0m\n\u001b[1;32m     29\u001b[0m     '''\n\u001b[0;32m---> 30\u001b[0;31m     \u001b[0mscores\u001b[0m\u001b[0;34m.\u001b[0m\u001b[0mappend\u001b[0m\u001b[0;34m(\u001b[0m\u001b[0mtest_methods\u001b[0m\u001b[0;34m(\u001b[0m\u001b[0my\u001b[0m\u001b[0;34m,\u001b[0m\u001b[0mtx\u001b[0m\u001b[0;34m,\u001b[0m\u001b[0mmethods\u001b[0m\u001b[0;34m[\u001b[0m\u001b[0;36m6\u001b[0m\u001b[0;34m]\u001b[0m\u001b[0;34m)\u001b[0m\u001b[0;34m)\u001b[0m\u001b[0;34m\u001b[0m\u001b[0;34m\u001b[0m\u001b[0m\n\u001b[0m\u001b[1;32m     31\u001b[0m \u001b[0;34m\u001b[0m\u001b[0m\n\u001b[1;32m     32\u001b[0m     \u001b[0mindex\u001b[0m \u001b[0;34m=\u001b[0m \u001b[0mnp\u001b[0m\u001b[0;34m.\u001b[0m\u001b[0margmax\u001b[0m\u001b[0;34m(\u001b[0m\u001b[0mscores\u001b[0m\u001b[0;34m)\u001b[0m\u001b[0;34m\u001b[0m\u001b[0;34m\u001b[0m\u001b[0m\n",
      "\u001b[0;32m~/Desktop/EPFL/MA1/Machine Learning/labs/01/ML_course/projects/project1/scripts/implementations.py\u001b[0m in \u001b[0;36mtest_methods\u001b[0;34m(y, tx, method)\u001b[0m\n\u001b[1;32m    630\u001b[0m             \u001b[0mprint\u001b[0m\u001b[0;34m(\u001b[0m\u001b[0;34m'poly logistic regression learning ongoing...'\u001b[0m\u001b[0;34m)\u001b[0m\u001b[0;34m\u001b[0m\u001b[0;34m\u001b[0m\u001b[0m\n\u001b[1;32m    631\u001b[0m             w, loss = logistic_regression(\n\u001b[0;32m--> 632\u001b[0;31m                                 logistic_y_train, poly_tx_train, initial_w,max_iters, gamma)\n\u001b[0m\u001b[1;32m    633\u001b[0m \u001b[0;34m\u001b[0m\u001b[0m\n\u001b[1;32m    634\u001b[0m             \u001b[0mscore\u001b[0m \u001b[0;34m=\u001b[0m \u001b[0mtest_logistic_score\u001b[0m\u001b[0;34m(\u001b[0m\u001b[0mlogistic_y_test\u001b[0m\u001b[0;34m,\u001b[0m \u001b[0mpoly_tx_test\u001b[0m\u001b[0;34m,\u001b[0m \u001b[0mw\u001b[0m\u001b[0;34m)\u001b[0m\u001b[0;34m\u001b[0m\u001b[0;34m\u001b[0m\u001b[0m\n",
      "\u001b[0;32m~/Desktop/EPFL/MA1/Machine Learning/labs/01/ML_course/projects/project1/scripts/implementations.py\u001b[0m in \u001b[0;36mlogistic_regression\u001b[0;34m(y, tx, initial_w, max_iters, gamma)\u001b[0m\n\u001b[1;32m    157\u001b[0m             \u001b[0mprint\u001b[0m\u001b[0;34m(\u001b[0m\u001b[0;34m\"Current iteration={i}, loss={l}\"\u001b[0m\u001b[0;34m.\u001b[0m\u001b[0mformat\u001b[0m\u001b[0;34m(\u001b[0m\u001b[0mi\u001b[0m\u001b[0;34m=\u001b[0m\u001b[0miter\u001b[0m\u001b[0;34m,\u001b[0m \u001b[0ml\u001b[0m\u001b[0;34m=\u001b[0m\u001b[0mloss\u001b[0m\u001b[0;34m)\u001b[0m\u001b[0;34m)\u001b[0m\u001b[0;34m\u001b[0m\u001b[0;34m\u001b[0m\u001b[0m\n\u001b[1;32m    158\u001b[0m         '''\n\u001b[0;32m--> 159\u001b[0;31m         \u001b[0mgradient\u001b[0m \u001b[0;34m=\u001b[0m \u001b[0mcompute_logistic_gradient\u001b[0m\u001b[0;34m(\u001b[0m\u001b[0my\u001b[0m\u001b[0;34m,\u001b[0m\u001b[0mtx\u001b[0m\u001b[0;34m,\u001b[0m\u001b[0mw\u001b[0m\u001b[0;34m)\u001b[0m\u001b[0;34m\u001b[0m\u001b[0;34m\u001b[0m\u001b[0m\n\u001b[0m\u001b[1;32m    160\u001b[0m         \u001b[0mw\u001b[0m \u001b[0;34m=\u001b[0m \u001b[0mw\u001b[0m \u001b[0;34m-\u001b[0m \u001b[0mgamma\u001b[0m\u001b[0;34m*\u001b[0m\u001b[0mgradient\u001b[0m\u001b[0;34m\u001b[0m\u001b[0;34m\u001b[0m\u001b[0m\n\u001b[1;32m    161\u001b[0m \u001b[0;34m\u001b[0m\u001b[0m\n",
      "\u001b[0;32m~/Desktop/EPFL/MA1/Machine Learning/labs/01/ML_course/projects/project1/scripts/implementations.py\u001b[0m in \u001b[0;36mcompute_logistic_gradient\u001b[0;34m(y, tx, w)\u001b[0m\n\u001b[1;32m    229\u001b[0m \u001b[0;32mdef\u001b[0m \u001b[0mcompute_logistic_gradient\u001b[0m\u001b[0;34m(\u001b[0m\u001b[0my\u001b[0m\u001b[0;34m,\u001b[0m \u001b[0mtx\u001b[0m\u001b[0;34m,\u001b[0m \u001b[0mw\u001b[0m\u001b[0;34m)\u001b[0m\u001b[0;34m:\u001b[0m\u001b[0;34m\u001b[0m\u001b[0;34m\u001b[0m\u001b[0m\n\u001b[1;32m    230\u001b[0m     \u001b[0;34m\"\"\"compute the gradient of loss.\"\"\"\u001b[0m\u001b[0;34m\u001b[0m\u001b[0;34m\u001b[0m\u001b[0m\n\u001b[0;32m--> 231\u001b[0;31m     \u001b[0;32mreturn\u001b[0m \u001b[0mtx\u001b[0m\u001b[0;34m.\u001b[0m\u001b[0mT\u001b[0m\u001b[0;34m.\u001b[0m\u001b[0mdot\u001b[0m\u001b[0;34m(\u001b[0m\u001b[0msigmoid\u001b[0m\u001b[0;34m(\u001b[0m\u001b[0mtx\u001b[0m\u001b[0;34m.\u001b[0m\u001b[0mdot\u001b[0m\u001b[0;34m(\u001b[0m\u001b[0mw\u001b[0m\u001b[0;34m)\u001b[0m\u001b[0;34m)\u001b[0m\u001b[0;34m-\u001b[0m\u001b[0my\u001b[0m\u001b[0;34m)\u001b[0m\u001b[0;34m\u001b[0m\u001b[0;34m\u001b[0m\u001b[0m\n\u001b[0m\u001b[1;32m    232\u001b[0m \u001b[0;31m## ******************************************************************\u001b[0m\u001b[0;34m\u001b[0m\u001b[0;34m\u001b[0m\u001b[0;34m\u001b[0m\u001b[0m\n\u001b[1;32m    233\u001b[0m \u001b[0;32mdef\u001b[0m \u001b[0mconvert_to_proba\u001b[0m\u001b[0;34m(\u001b[0m\u001b[0my\u001b[0m\u001b[0;34m)\u001b[0m\u001b[0;34m:\u001b[0m\u001b[0;34m\u001b[0m\u001b[0;34m\u001b[0m\u001b[0m\n",
      "\u001b[0;32m~/Desktop/EPFL/MA1/Machine Learning/labs/01/ML_course/projects/project1/scripts/implementations.py\u001b[0m in \u001b[0;36msigmoid\u001b[0;34m(t)\u001b[0m\n\u001b[1;32m    225\u001b[0m \u001b[0;32mdef\u001b[0m \u001b[0msigmoid\u001b[0m\u001b[0;34m(\u001b[0m\u001b[0mt\u001b[0m\u001b[0;34m)\u001b[0m\u001b[0;34m:\u001b[0m\u001b[0;34m\u001b[0m\u001b[0;34m\u001b[0m\u001b[0m\n\u001b[1;32m    226\u001b[0m     \u001b[0;34m\"\"\"apply sigmoid function on t.\"\"\"\u001b[0m\u001b[0;34m\u001b[0m\u001b[0;34m\u001b[0m\u001b[0m\n\u001b[0;32m--> 227\u001b[0;31m     \u001b[0;32mreturn\u001b[0m \u001b[0;36m1.\u001b[0m \u001b[0;34m/\u001b[0m \u001b[0;34m(\u001b[0m\u001b[0;36m1\u001b[0m\u001b[0;34m+\u001b[0m\u001b[0mnp\u001b[0m\u001b[0;34m.\u001b[0m\u001b[0mexp\u001b[0m\u001b[0;34m(\u001b[0m\u001b[0;34m-\u001b[0m\u001b[0mt\u001b[0m\u001b[0;34m)\u001b[0m\u001b[0;34m)\u001b[0m\u001b[0;34m\u001b[0m\u001b[0;34m\u001b[0m\u001b[0m\n\u001b[0m\u001b[1;32m    228\u001b[0m \u001b[0;31m## ******************************************************************\u001b[0m\u001b[0;34m\u001b[0m\u001b[0;34m\u001b[0m\u001b[0;34m\u001b[0m\u001b[0m\n\u001b[1;32m    229\u001b[0m \u001b[0;32mdef\u001b[0m \u001b[0mcompute_logistic_gradient\u001b[0m\u001b[0;34m(\u001b[0m\u001b[0my\u001b[0m\u001b[0;34m,\u001b[0m \u001b[0mtx\u001b[0m\u001b[0;34m,\u001b[0m \u001b[0mw\u001b[0m\u001b[0;34m)\u001b[0m\u001b[0;34m:\u001b[0m\u001b[0;34m\u001b[0m\u001b[0;34m\u001b[0m\u001b[0m\n",
      "\u001b[0;31mKeyboardInterrupt\u001b[0m: "
     ]
    }
   ],
   "source": [
    "def test_main():\n",
    "    ''' TEST ALL RAW METHODS '''\n",
    "    \n",
    "    # Load train and test data\n",
    "    DATA_TRAIN_PATH = \"../data/train.csv\"\n",
    "    y, tx, ids = load_csv_data(DATA_TRAIN_PATH)\n",
    "    \n",
    "    print('Data loaded')\n",
    "    \n",
    "    methods = ['least_square_GD', \n",
    "               'least_square_SGD', \n",
    "               'least_squares', \n",
    "               'ridge_regression', \n",
    "               'logistic_regression', \n",
    "               'reg_logistic_regression']\n",
    "    \n",
    "    scores = []\n",
    "    \n",
    "    scores.append(test_methods(y,tx,methods[0]))\n",
    "    scores.append(test_methods(y,tx,methods[1]))\n",
    "    scores.append(test_methods(y,tx,methods[2]))\n",
    "    scores.append(test_methods(y,tx,methods[3]))\n",
    "    scores.append(test_methods(y,tx,methods[4]))\n",
    "    scores.append(test_methods(y,tx,methods[5]))\n",
    "    \n",
    "    index = np.argmax(scores)\n",
    "    \n",
    "    print('Best method is ', methods[index], ': score = ', scores[index])\n",
    "\n",
    "test_main()"
   ]
  },
  {
   "cell_type": "code",
   "execution_count": null,
   "metadata": {},
   "outputs": [
    {
     "name": "stdout",
     "output_type": "stream",
     "text": [
      "Data loaded\n",
      "degree: 4  lambda: 1e-12 -> RMSE  =  0.7402822368189568\n"
     ]
    }
   ],
   "source": [
    "def hyperparameters_main():\n",
    "    ''' FIND OPTIMAL PARAMETERS FOR RIDGE REGRESSION '''\n",
    "    # Load train and test data\n",
    "    DATA_TRAIN_PATH = \"../data/train.csv\"\n",
    "    y_train, tx_train, ids = load_csv_data(DATA_TRAIN_PATH)\n",
    "    \n",
    "    print('Data loaded')\n",
    "    \n",
    "    # Pre-processing of data \n",
    "    # -> delete nan and replace by mean column value\n",
    "    # -> replace outliers by low/high bound\n",
    "    processed_tx_train = process_data(tx_train)\n",
    "    \n",
    "    optimal_degree, optimal_lambda = find_optimal_hyperparameters(y_train, processed_tx_train)\n",
    "\n",
    "    print('optimal hyperparameters found:')\n",
    "    print('- degree = ', optimal_degree) \n",
    "    print('- lambda = ', optimal_lambda)\n",
    "  \n",
    "hyperparameters_main()"
   ]
  },
  {
   "cell_type": "code",
   "execution_count": 9,
   "metadata": {},
   "outputs": [
    {
     "name": "stdout",
     "output_type": "stream",
     "text": [
      "tx jet:  (99913, 18)\n",
      "ids jet:  (99913,)\n",
      "tx jet:  (77544, 22)\n",
      "ids jet:  (77544,)\n",
      "tx jet:  (50379, 29)\n",
      "ids jet:  (50379,)\n",
      "tx jet:  (22164, 29)\n",
      "ids jet:  (22164,)\n",
      "Data loaded\n",
      "Hyperparameters optimized\n",
      "Building training polynomial array ongoing...\n",
      "shape of final_tx_train:  (99913, 279)\n",
      "Ridge regression ongoing\n",
      "shape of weights:  (279,)\n",
      "Hyperparameters optimized\n",
      "Building training polynomial array ongoing...\n",
      "shape of final_tx_train:  (77544, 385)\n",
      "Ridge regression ongoing\n",
      "shape of weights:  (385,)\n",
      "Hyperparameters optimized\n",
      "Building training polynomial array ongoing...\n",
      "shape of final_tx_train:  (50379, 609)\n",
      "Ridge regression ongoing\n",
      "shape of weights:  (609,)\n",
      "Hyperparameters optimized\n",
      "Building training polynomial array ongoing...\n",
      "shape of final_tx_train:  (22164, 609)\n",
      "Ridge regression ongoing\n",
      "shape of weights:  (609,)\n"
     ]
    }
   ],
   "source": [
    "def main():\n",
    "    '''OPTIMAL METHOD COMPUTED\n",
    "    '''\n",
    "    # Load train and test data\n",
    "    DATA_TRAIN_PATH = \"../data/train.csv\"\n",
    "    y_train, tx_train, ids = load_csv_data(DATA_TRAIN_PATH)\n",
    "    \n",
    "    # Split in jet num\n",
    "    jet_nums = range(0,4,1)\n",
    "    \n",
    "    ids_jets = []\n",
    "    tx_jets = []\n",
    "    y_jets = []\n",
    "    \n",
    "    for i in jet_nums:\n",
    "        \n",
    "        # find data with jet num i\n",
    "        data_jet = np.where(tx_train[:,22]==i)\n",
    "        ids_jet = ids[data_jet]\n",
    "    \n",
    "        \n",
    "        # creat sub label and sub feature data\n",
    "        tx_jet = tx_train[data_jet]\n",
    "        y_jet = y_train[data_jet]\n",
    "        \n",
    "        # process data\n",
    "        tx_jet = process_data(tx_jet)      \n",
    "        \n",
    "        # store\n",
    "        tx_jets.append(tx_jet)\n",
    "        y_jets.append(y_jet)\n",
    "        \n",
    "        print('tx jet: ',np.shape(tx_jet))\n",
    "        print('ids jet: ', np.shape(ids_jet))\n",
    "    \n",
    "    print('Data loaded')\n",
    "    \n",
    "    \n",
    "    ws = []\n",
    "    # optimal hyperparameters found by grid search for each jet num\n",
    "    optimal_degree = [6, 6, 6, 6]\n",
    "    optimal_lambda = [7.017038286703836e-11, 1.4251026703029964e-10, 2.424462017082331e-09, 4.923882631706752e-09]\n",
    "    \n",
    "    for i in jet_nums:\n",
    "        \n",
    "       # if grid_search:\n",
    "       #     optimal_degree, optimal_lambda = find_optimal_hyperparameters(y_jets[i], tx_jets[i])\n",
    "      \n",
    "        print('Hyperparameters optimized')\n",
    "\n",
    "        # Build poly and add cross-terms and logs\n",
    "\n",
    "        print('Building training polynomial array ongoing...')\n",
    "        final_tx_jet = build_poly(tx_jets[i], optimal_degree[i])\n",
    "        final_tx_jet = np.c_[final_tx_jet, build_cross_terms(tx_jets[i])]\n",
    "        print('shape of final_tx_train: ',np.shape(final_tx_jet))\n",
    "\n",
    "        print('Ridge regression ongoing')\n",
    "        w, loss = ridge_regression(y_jets[i], final_tx_jet, optimal_lambda[i])\n",
    "        print('shape of weights: ',np.shape(w))\n",
    "\n",
    "        ws.append(w)\n",
    " \n",
    "    return ws\n",
    "\n",
    "w = main()"
   ]
  },
  {
   "cell_type": "code",
   "execution_count": 2,
   "metadata": {},
   "outputs": [
    {
     "name": "stdout",
     "output_type": "stream",
     "text": [
      "Data processed\n",
      "Building testing polynomial array ongoing...\n",
      "poly built\n",
      "sqrt built\n",
      "cross built\n",
      "shape of final_tx_test:  (568238, 675)\n"
     ]
    }
   ],
   "source": [
    "def build_test_main():\n",
    "\n",
    "    DATA_TEST_PATH = \"../data/test.csv\"\n",
    "    _, tx_test, ids_test = load_csv_data(DATA_TEST_PATH)\n",
    "\n",
    "    processed_tx_test = process_data(tx_test)\n",
    "    print('Data processed')\n",
    "\n",
    "    optimal_degree = 6\n",
    "    optimal_lambda = 2.8942661247167517e-10\n",
    "    \n",
    "    print('Building testing polynomial array ongoing...')\n",
    "    \n",
    "    final_tx_test = build_poly(processed_tx_test, optimal_degree)\n",
    "    print('poly built')\n",
    "    final_tx_test = np.c_[final_tx_test, build_cross_terms(processed_tx_test)]\n",
    "    print('cross built')\n",
    "    \n",
    "    print('shape of final_tx_test: ', np.shape(final_tx_test))\n",
    "        \n",
    "    return final_tx_test, ids_test\n",
    "\n",
    "tX_test, ids_test = build_test_main()"
   ]
  },
  {
   "cell_type": "code",
   "execution_count": 11,
   "metadata": {},
   "outputs": [],
   "source": [
    "OUTPUT_PATH = \"../data/submission014.csv\"\n",
    "#y_pred = predict_labels(weights, tX_test)\n",
    "#y_pred = predict_labels(w, tX_test)\n",
    "create_csv_submission(ids_test, y_pred, OUTPUT_PATH)"
   ]
  },
  {
   "cell_type": "code",
   "execution_count": 10,
   "metadata": {},
   "outputs": [
    {
     "name": "stdout",
     "output_type": "stream",
     "text": [
      "Data loaded\n",
      "y_pred shape:  (568238, 1)\n",
      "tx jet:  (227458, 18)\n",
      "ids jet:  (227458,)\n",
      "tx jet:  (175338, 22)\n",
      "ids jet:  (175338,)\n",
      "tx jet:  (114648, 29)\n",
      "ids jet:  (114648,)\n",
      "tx jet:  (50794, 29)\n",
      "ids jet:  (50794,)\n",
      "poly built\n",
      "cross built\n",
      "shape of final_tx_test:  (227458, 279)\n",
      "shape y_pred_jet:  (227458,)\n",
      "poly built\n",
      "cross built\n",
      "shape of final_tx_test:  (175338, 385)\n",
      "shape y_pred_jet:  (175338,)\n",
      "poly built\n",
      "cross built\n",
      "shape of final_tx_test:  (114648, 609)\n",
      "shape y_pred_jet:  (114648,)\n",
      "poly built\n",
      "cross built\n",
      "shape of final_tx_test:  (50794, 609)\n",
      "shape y_pred_jet:  (50794,)\n",
      "(568238, 1)\n"
     ]
    }
   ],
   "source": [
    "def jet_num_main(w):\n",
    "    \n",
    "    DATA_TEST_PATH = \"../data/test.csv\"\n",
    "    _, tx_test, ids_test = load_csv_data(DATA_TEST_PATH)\n",
    "\n",
    "    print('Data loaded')\n",
    "    \n",
    "    final_tx_test= []\n",
    "    \n",
    "    ids_jets = []\n",
    "    tx_jets = []\n",
    "    \n",
    "    y_pred = np.zeros((tx_test.shape[0],1))\n",
    "    print('y_pred shape: ', np.shape(y_pred))\n",
    "    jet_num = range(0,4,1)\n",
    "    \n",
    "    for i in jet_num:\n",
    "        \n",
    "        # create sub data jet\n",
    "        data_jet = np.where(tx_test[:,22]==i)\n",
    "        ids_jet = ids_test[data_jet]\n",
    "        tx_jet = tx_test[data_jet]\n",
    "        \n",
    "        # process data\n",
    "        tx_jet = process_data(tx_jet) \n",
    "        \n",
    "        # store data\n",
    "        tx_jets.append(tx_jet)\n",
    "        ids_jets.append(ids_jet)\n",
    "        \n",
    "        print('tx jet: ',np.shape(tx_jet))\n",
    "        print('ids jet: ', np.shape(ids_jet))\n",
    "            \n",
    "    # optimal hyperparameters found by grid search for each jet num\n",
    "    optimal_degree = [6, 6, 6, 6]\n",
    "    optimal_lambda = [7.017038286703836e-11, 1.4251026703029964e-10, 2.424462017082331e-09, 4.923882631706752e-09]\n",
    "    \n",
    "    for i in jet_num:\n",
    "        \n",
    "        final_tx_jet = build_poly(tx_jets[i], optimal_degree[i])\n",
    "        print('poly built')\n",
    "        final_tx_jet = np.c_[final_tx_jet, build_cross_terms(tx_jets[i])]\n",
    "        print('cross built')\n",
    "        print('shape of final_tx_test: ', np.shape(final_tx_jet))\n",
    "        \n",
    "        y_pred_jet = predict_labels(w[i], final_tx_jet)\n",
    "        print('shape y_pred_jet: ',np.shape(y_pred_jet))\n",
    "        \n",
    "        for j in range(len(y_pred_jet)):\n",
    "            \n",
    "            y_pred[ids_jets[i][j]-350000,0] = y_pred_jet[j]\n",
    "        \n",
    "    y_pred.tolist()\n",
    "    \n",
    "    print(np.shape(y_pred))\n",
    "    \n",
    "    return y_pred, ids_test\n",
    "\n",
    "y_pred, ids_test = jet_num_main(w)"
   ]
  },
  {
   "cell_type": "code",
   "execution_count": 70,
   "metadata": {},
   "outputs": [
    {
     "name": "stdout",
     "output_type": "stream",
     "text": [
      "[1, 2, 3, 4]\n",
      "1\n"
     ]
    }
   ],
   "source": [
    "y_pred_jet = [1,2,3,4]\n",
    "\n",
    "print(y_pred_jet)\n",
    "print(y_pred_jet[0])"
   ]
  },
  {
   "cell_type": "code",
   "execution_count": 28,
   "metadata": {},
   "outputs": [
    {
     "name": "stdout",
     "output_type": "stream",
     "text": [
      "(4, 1)\n",
      "1.0\n",
      "2.0\n",
      "1.0\n"
     ]
    },
    {
     "ename": "TypeError",
     "evalue": "list indices must be integers or slices, not numpy.float64",
     "output_type": "error",
     "traceback": [
      "\u001b[0;31m---------------------------------------------------------------------------\u001b[0m",
      "\u001b[0;31mTypeError\u001b[0m                                 Traceback (most recent call last)",
      "\u001b[0;32m<ipython-input-28-b660e724e93a>\u001b[0m in \u001b[0;36m<module>\u001b[0;34m\u001b[0m\n\u001b[1;32m      7\u001b[0m \u001b[0mids_jet\u001b[0m \u001b[0;34m=\u001b[0m \u001b[0my_ored\u001b[0m\u001b[0;34m[\u001b[0m\u001b[0mnp\u001b[0m\u001b[0;34m.\u001b[0m\u001b[0mwhere\u001b[0m\u001b[0;34m(\u001b[0m\u001b[0my_ored\u001b[0m\u001b[0;34m==\u001b[0m\u001b[0;36m1\u001b[0m\u001b[0;34m)\u001b[0m\u001b[0;34m]\u001b[0m\u001b[0;34m\u001b[0m\u001b[0;34m\u001b[0m\u001b[0m\n\u001b[1;32m      8\u001b[0m \u001b[0mprint\u001b[0m\u001b[0;34m(\u001b[0m\u001b[0mids_jet\u001b[0m\u001b[0;34m[\u001b[0m\u001b[0;36m0\u001b[0m\u001b[0;34m]\u001b[0m\u001b[0;34m)\u001b[0m\u001b[0;34m\u001b[0m\u001b[0;34m\u001b[0m\u001b[0m\n\u001b[0;32m----> 9\u001b[0;31m \u001b[0mprint\u001b[0m\u001b[0;34m(\u001b[0m\u001b[0my_pred\u001b[0m\u001b[0;34m[\u001b[0m\u001b[0mids_jet\u001b[0m\u001b[0;34m[\u001b[0m\u001b[0;36m0\u001b[0m\u001b[0;34m]\u001b[0m\u001b[0;34m]\u001b[0m\u001b[0;34m)\u001b[0m\u001b[0;34m\u001b[0m\u001b[0;34m\u001b[0m\u001b[0m\n\u001b[0m\u001b[1;32m     10\u001b[0m \u001b[0mprint\u001b[0m\u001b[0;34m(\u001b[0m\u001b[0mnp\u001b[0m\u001b[0;34m.\u001b[0m\u001b[0mshape\u001b[0m\u001b[0;34m(\u001b[0m\u001b[0mids_jet\u001b[0m\u001b[0;34m)\u001b[0m\u001b[0;34m)\u001b[0m\u001b[0;34m\u001b[0m\u001b[0;34m\u001b[0m\u001b[0m\n\u001b[1;32m     11\u001b[0m \u001b[0mprint\u001b[0m\u001b[0;34m(\u001b[0m\u001b[0mids_jet\u001b[0m\u001b[0;34m)\u001b[0m\u001b[0;34m\u001b[0m\u001b[0;34m\u001b[0m\u001b[0m\n",
      "\u001b[0;31mTypeError\u001b[0m: list indices must be integers or slices, not numpy.float64"
     ]
    }
   ],
   "source": [
    "y_ored = np.ones((4,1))\n",
    "print(np.shape(y_ored))\n",
    "print(y_ored[0,0])\n",
    "y_ored[0,0]= 2\n",
    "print(y_ored[0,0])\n",
    "y_pred = [1] * 10\n",
    "ids_jet = y_ored[np.where(y_ored==1)]\n",
    "print(ids_jet[0])\n",
    "print(y_pred[ids_jet[0]])\n",
    "print(np.shape(ids_jet))\n",
    "print(ids_jet)\n",
    "print(ids_jet[1])\n",
    "print(y_ored)\n",
    "print(y_pred)"
   ]
  },
  {
   "cell_type": "code",
   "execution_count": null,
   "metadata": {},
   "outputs": [],
   "source": []
  }
 ],
 "metadata": {
  "anaconda-cloud": {},
  "kernelspec": {
   "display_name": "Python 3",
   "language": "python",
   "name": "python3"
  },
  "language_info": {
   "codemirror_mode": {
    "name": "ipython",
    "version": 3
   },
   "file_extension": ".py",
   "mimetype": "text/x-python",
   "name": "python",
   "nbconvert_exporter": "python",
   "pygments_lexer": "ipython3",
   "version": "3.7.3"
  }
 },
 "nbformat": 4,
 "nbformat_minor": 1
}
